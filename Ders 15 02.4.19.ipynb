{
 "cells": [
  {
   "cell_type": "code",
   "execution_count": 1,
   "metadata": {},
   "outputs": [],
   "source": [
    "#1 \n",
    "\n",
    "#2 tersten okunuşu aynı olan kelimeleri test eden program\n",
    "\n",
    "#3 n*n tane karakteri n*n matrise atayan bir fonksiyon yazınız  (0-n-1)\n",
    "      #b) kendisine aktarılan bir kelimeyi bu matris üzerinde soldan saga,sagdan solda,yukarıdan asagıya,\n",
    "          #asagıdan yukarıya dogrultularında arayın olup olmadıgını return eden bir fonk yazınız\n",
    "    \n",
    "#4 kendisine aktarılan bir listedeki sayıların ortalamasını ,standart sapmasını return eden fonksiyon.\n",
    "\n",
    "#5 matrisin determinantını bulunuz.\n",
    "   #b)matris tekil midir degil midir(singular)\n",
    "   #c)matrisi elementer matrise cevir.\n",
    "   #d)bir matriste satır ve sütunlarının toplamı en küçük ve en büyük olan satır ve sütunlarını bulunuz.(min max)toplam deger.\n",
    "   #e)bir matriste kaç 0 oldugunu bulan fonk.\n",
    "   #f)matristeki 0 oranı %30 un altında ise,bu matrisi 2 boyutlu listeden bir hash yapısına aktarınız.\n",
    "   #g)0 lar cok oldugu icin hash yapısıyla olusturulmus matrisi 2 boyutlu listeye aktarınız.\n",
    "\n",
    "#6 dosyayı oku,noktaya göre ayır,bosluga göre ayır,kelime frekanslarını bul hash yapısını listeye aktar my_frequency[(w1,w2)]=100\n",
    "   #b)list olarak verileni dict hash e aktar.\n",
    "    \n",
    "#7 hash yapısıyla gösterilen matrislere ait toplama,cıkarma,carpma islemlerini yapan fonksiyonu yazınız..    "
   ]
  },
  {
   "cell_type": "code",
   "execution_count": 28,
   "metadata": {},
   "outputs": [],
   "source": [
    "import random\n",
    "def my_function_create(m:int,n:int):\n",
    "    my_list=[]\n",
    "    for i in range (m):\n",
    "        my_list.append([])\n",
    "        for j in range(n):\n",
    "            #s=random.randint(-1,1)\n",
    "            s=-1\n",
    "            my_list[i].append(s)\n",
    "    return my_list        \n",
    "\n",
    "def my_function_print(myList):\n",
    "    m=len(myList)\n",
    "    n=len(myList[0])\n",
    "    for i in range(m):\n",
    "        for j in range(n):\n",
    "            print(myList[i][j],end=\" \")\n",
    "        print() \n",
    "\n",
    "def my_function_print_convert_to_hash(myList):\n",
    "    my_dict={}\n",
    "    m=len(myList)\n",
    "    n=len(myList[0])\n",
    "    for i in range(m):\n",
    "        for j in range(n):\n",
    "            my_dict[(i,j)]=myList[i][j]\n",
    "            #print(myList[i][j],end=\" \")\n",
    "        #print() \n",
    "    return my_dict \n",
    "\n",
    "def my_function_print_hash(myHashList):\n",
    "    for key in myHashList:\n",
    "        print(myHashList[key],end=\" \")        \n",
    "        \n",
    "        \n"
   ]
  },
  {
   "cell_type": "code",
   "execution_count": 25,
   "metadata": {},
   "outputs": [
    {
     "name": "stdout",
     "output_type": "stream",
     "text": [
      "-1 -1 \n",
      "-1 -1 \n",
      "-1 -1 \n"
     ]
    }
   ],
   "source": [
    "my_2d_array=my_function_create(3,2)\n",
    "my_function_print(my_2d_array)\n"
   ]
  },
  {
   "cell_type": "code",
   "execution_count": 29,
   "metadata": {},
   "outputs": [
    {
     "name": "stdout",
     "output_type": "stream",
     "text": [
      "-1 -1 -1 -1 -1 -1 "
     ]
    }
   ],
   "source": [
    "my_2d_hash=my_function_print_convert_to_hash(my_2d_array)\n",
    "my_function_print_hash(my_2d_hash)"
   ]
  },
  {
   "cell_type": "code",
   "execution_count": null,
   "metadata": {},
   "outputs": [],
   "source": []
  }
 ],
 "metadata": {
  "kernelspec": {
   "display_name": "Python 3",
   "language": "python",
   "name": "python3"
  },
  "language_info": {
   "codemirror_mode": {
    "name": "ipython",
    "version": 3
   },
   "file_extension": ".py",
   "mimetype": "text/x-python",
   "name": "python",
   "nbconvert_exporter": "python",
   "pygments_lexer": "ipython3",
   "version": "3.7.1"
  }
 },
 "nbformat": 4,
 "nbformat_minor": 2
}
