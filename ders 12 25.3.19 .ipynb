{
 "cells": [
  {
   "cell_type": "code",
   "execution_count": 11,
   "metadata": {},
   "outputs": [],
   "source": [
    "class myClass():\n",
    "    def __init__(self,myfile=\"\"):\n",
    "        f = open(\"ssss.txt\",\"r\")\n",
    "        myContent=f.read()\n",
    "        mySentences=myContent.split(\".\")\n",
    "        self.myWords=[]\n",
    "        for sentence in mySentences:\n",
    "            Words_In_the_sentence=sentence.split(\" \")\n",
    "            for word_1 in Words_In_the_sentence:\n",
    "                self.myWords.append(word_1)\n",
    "        self.my_frequency_1()\n",
    "        self.my_frequency_2()\n",
    "        self.write.frequency_2()\n",
    "    def write_frequency_1(self):\n",
    "        for word_1 in self.frequency_list_1:\n",
    "            print(word_1+\" \"+str(self.frequency_list_1[word_1]))\n",
    "    \n",
    "    def my_frequency_1(self):\n",
    "        self.frequency_list_1={}\n",
    "        for word in self.myWords:\n",
    "            if(word in self.frequency_list_1):\n",
    "                self.frequency_list_1[word]+=1\n",
    "            else:\n",
    "                self.frequency_list_1[word]=1\n",
    "    def my_frequency_2(self):\n",
    "        self.frequency_list_2={}\n",
    "        for i in range(len(self.myWords)-1):\n",
    "            w_1,w_2=self.myWords[i],self.myWords[i+1]\n",
    "            \n",
    "            if((w_1,w_2) in self.frequency_list_2):\n",
    "                self.frequency_list_2[(w_1,w_2)]+=1\n",
    "            else:\n",
    "                self.frequency_list_2[(w_1,w_2)]=1\n",
    "    def write_frequency_2(self):\n",
    "        for w_1 in self.frequency_list_2:\n",
    "            print(w_1+\" \"+str(self.frequency_list_2[w_1]))\n",
    " ###  def my_frequency_2():\n",
    " ###  def write_frequency_1():\n",
    " ###  def write_frequency_2():    "
   ]
  },
  {
   "cell_type": "code",
   "execution_count": 13,
   "metadata": {},
   "outputs": [],
   "source": [
    " my_class_1=myClass()"
   ]
  },
  {
   "cell_type": "code",
   "execution_count": 15,
   "metadata": {},
   "outputs": [
    {
     "data": {
      "text/plain": [
       "<__main__.myClass at 0x233df9edeb8>"
      ]
     },
     "execution_count": 15,
     "metadata": {},
     "output_type": "execute_result"
    }
   ],
   "source": [
    "my_class_1"
   ]
  },
  {
   "cell_type": "code",
   "execution_count": 17,
   "metadata": {},
   "outputs": [
    {
     "data": {
      "text/plain": [
       "list"
      ]
     },
     "execution_count": 17,
     "metadata": {},
     "output_type": "execute_result"
    }
   ],
   "source": [
    "type(my_class_1.myWords)"
   ]
  },
  {
   "cell_type": "code",
   "execution_count": 20,
   "metadata": {},
   "outputs": [
    {
     "data": {
      "text/plain": [
       "('3', '19')"
      ]
     },
     "execution_count": 20,
     "metadata": {},
     "output_type": "execute_result"
    }
   ],
   "source": [
    "my_class_1.myWords[24],my_class_1.myWords[2]"
   ]
  },
  {
   "cell_type": "code",
   "execution_count": 24,
   "metadata": {},
   "outputs": [
    {
     "name": "stdout",
     "output_type": "stream",
     "text": [
      "57\n"
     ]
    }
   ],
   "source": [
    "my_class_2=myClass()\n",
    "print(len(my_class_1.myWords))"
   ]
  },
  {
   "cell_type": "code",
   "execution_count": 32,
   "metadata": {},
   "outputs": [
    {
     "data": {
      "text/plain": [
       "['\\n\\n11',\n",
       " '3',\n",
       " '19',\n",
       " '',\n",
       " '\\n\\n06:00\\n\\n2',\n",
       " '7',\n",
       " 'L',\n",
       " '\\n\\n06:00\\n\\n\\n12',\n",
       " '3',\n",
       " '19\\n\\n06:00\\n\\n2L\\n\\n22',\n",
       " '00\\n\\n13',\n",
       " '3',\n",
       " '19\\n\\n04:00\\n\\n2',\n",
       " '7',\n",
       " 'L\\n\\n04:00\\n\\n14',\n",
       " '3',\n",
       " '19\\n\\n09:00\\n\\n2',\n",
       " '5L\\n\\n09:00\\n\\n15',\n",
       " '3',\n",
       " '19\\n\\n10:00\\n\\n1L\\n\\n21:00\\n\\n16',\n",
       " '3',\n",
       " '19\\n\\n04:30\\n\\n2',\n",
       " '25',\n",
       " 'L\\n\\n23:00\\n\\n17',\n",
       " '3',\n",
       " '19\\n\\n08:00\\n\\n1',\n",
       " '75',\n",
       " 'L\\n\\n08:00\\n\\n18',\n",
       " '3',\n",
       " '19\\n\\n08:00\\n\\n2',\n",
       " 'L\\n\\n22:00\\n\\n19',\n",
       " '3',\n",
       " '19\\n',\n",
       " '\\n08:30\\n\\n2',\n",
       " '4',\n",
       " 'L\\n\\n23:00\\n\\n20',\n",
       " '3',\n",
       " '19',\n",
       " '\\n\\n08:30\\n\\n2',\n",
       " '3',\n",
       " 'L\\n\\n23:30\\n\\n21',\n",
       " '3',\n",
       " '19\\n\\n08:30\\n\\n1',\n",
       " '5',\n",
       " 'L\\n\\n00:00\\n\\n22',\n",
       " '3',\n",
       " '19\\n\\n09:30\\n\\n2L\\n\\n01:00\\n\\n23',\n",
       " '3',\n",
       " '19\\n\\n10:30\\n\\n1',\n",
       " '75',\n",
       " 'L\\n\\n00:00\\n\\n24',\n",
       " '3',\n",
       " '19\\n\\n10:30\\n\\n1',\n",
       " '7',\n",
       " 'L\\n\\n01:00\\n\\n25',\n",
       " '3',\n",
       " '19\\n\\n11:00\\n\\n600\\n\\n\\n\\n\\n\\n\\n\\n\\n\\n\\n\\n\\n\\n\\n\\n\\n\\n\\n\\n\\n\\n\\n\\n\\n\\n']"
      ]
     },
     "execution_count": 32,
     "metadata": {},
     "output_type": "execute_result"
    }
   ],
   "source": [
    "my_class_2.myWords"
   ]
  }
 ],
 "metadata": {
  "kernelspec": {
   "display_name": "Python 3",
   "language": "python",
   "name": "python3"
  },
  "language_info": {
   "codemirror_mode": {
    "name": "ipython",
    "version": 3
   },
   "file_extension": ".py",
   "mimetype": "text/x-python",
   "name": "python",
   "nbconvert_exporter": "python",
   "pygments_lexer": "ipython3",
   "version": "3.7.1"
  }
 },
 "nbformat": 4,
 "nbformat_minor": 2
}
