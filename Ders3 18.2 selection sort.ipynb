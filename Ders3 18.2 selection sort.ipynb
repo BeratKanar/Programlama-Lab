{
 "cells": [
  {
   "cell_type": "code",
   "execution_count": 2,
   "metadata": {},
   "outputs": [
    {
     "ename": "IndentationError",
     "evalue": "unindent does not match any outer indentation level (<tokenize>, line 7)",
     "output_type": "error",
     "traceback": [
      "\u001b[1;36m  File \u001b[1;32m\"<tokenize>\"\u001b[1;36m, line \u001b[1;32m7\u001b[0m\n\u001b[1;33m    if(my_array[location]>my_array[positionOfMax]):\u001b[0m\n\u001b[1;37m    ^\u001b[0m\n\u001b[1;31mIndentationError\u001b[0m\u001b[1;31m:\u001b[0m unindent does not match any outer indentation level\n"
     ]
    }
   ],
   "source": [
    "def mySearchSelection(my_array):\n",
    "        swap=0\n",
    "        for i in range (len(my_array)-1,0,-1):\n",
    "            positionOfMax=0\n",
    "            for location in range(1,i+1):\n",
    "           #print(\"j: \",location,\"i \",i,end=\" \\n\")\n",
    "           if(my_array[location]>my_array[positionOfMax]):\n",
    "                positionOfMax=location\n",
    "            temp=my_array[location]\n",
    "            my_array[location]=my_array[positionOfMax]\n",
    "            my_array[positionOfMax]=temp\n",
    "            swap=swap+1\n",
    "        print(\"swap_sayisi\",swap,my_arr)   \n",
    "\n",
    "def my_binary_search(my_sorted_array,item):\n",
    "    first=0\n",
    "    last=len(my_sorted_array)-1\n",
    "    found=False\n",
    "    while first<=last and not found:\n",
    "        midpoint=(first+last)//2\n",
    "        print(\"first - last : \",first,last)\n",
    "        if(my_sorted_array[midpoint]==item):\n",
    "            found=True\n",
    "        else:\n",
    "            if(item<my_sorted_array[midpoint]):\n",
    "                last=midpoint-1  \n",
    "            else:\n",
    "                first=midpoint+1\n",
    "    return found,midpoint         \n",
    "\n",
    "\n",
    "my_arr=[5,1,8,2,9]\n",
    "mySearchSelection(my_arr)\n",
    "my_binary_search(my_arr,8)\n"
   ]
  }
 ],
 "metadata": {
  "kernelspec": {
   "display_name": "Python 3",
   "language": "python",
   "name": "python3"
  },
  "language_info": {
   "codemirror_mode": {
    "name": "ipython",
    "version": 3
   },
   "file_extension": ".py",
   "mimetype": "text/x-python",
   "name": "python",
   "nbconvert_exporter": "python",
   "pygments_lexer": "ipython3",
   "version": "3.7.1"
  }
 },
 "nbformat": 4,
 "nbformat_minor": 2
}
