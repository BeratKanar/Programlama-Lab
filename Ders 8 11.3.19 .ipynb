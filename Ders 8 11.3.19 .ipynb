{
 "cells": [
  {
   "cell_type": "code",
   "execution_count": 2,
   "metadata": {},
   "outputs": [
    {
     "data": {
      "text/plain": [
       "(False, [1, 2, 3, 7])"
      ]
     },
     "execution_count": 2,
     "metadata": {},
     "output_type": "execute_result"
    }
   ],
   "source": [
    "from math import sqrt as sqrt\n",
    "\n",
    "def is_prime(num):\n",
    "    if num < 2:\n",
    "        return False , [num]\n",
    "    carpanlar = [1]\n",
    "    i=2\n",
    "    while(num > 1):\n",
    "        if num%i== 0:\n",
    "            carpanlar.append(i)\n",
    "            num /= i\n",
    "        else:\n",
    "            i += 1\n",
    "    if len(carpanlar) > 2:\n",
    "        return False, carpanlar\n",
    "    else :\n",
    "        return True, carpanlar\n",
    "\n",
    "is_prime(42)    "
   ]
  },
  {
   "cell_type": "code",
   "execution_count": 9,
   "metadata": {},
   "outputs": [],
   "source": [
    "list = [1,8,-2,9,26,1,-2,2,-5]\n",
    "\n",
    "def max_sequential (liste):\n",
    "    maxSum = liste[0]\n",
    "    maxSumIndexs = []\n",
    "    for i in range (len(liste)):\n",
    "        sum_n=0\n",
    "        for j in range (i,len(liste)):\n",
    "            sum_n += liste[j]\n",
    "            if maxSum < sum_n :\n",
    "                maxSum = sum_n\n",
    "                \n",
    "    return maxSum\n",
    "\n"
   ]
  },
  {
   "cell_type": "code",
   "execution_count": 10,
   "metadata": {},
   "outputs": [
    {
     "data": {
      "text/plain": [
       "43"
      ]
     },
     "execution_count": 10,
     "metadata": {},
     "output_type": "execute_result"
    }
   ],
   "source": [
    "max_sequential(list)"
   ]
  }
 ],
 "metadata": {
  "kernelspec": {
   "display_name": "Python 3",
   "language": "python",
   "name": "python3"
  },
  "language_info": {
   "codemirror_mode": {
    "name": "ipython",
    "version": 3
   },
   "file_extension": ".py",
   "mimetype": "text/x-python",
   "name": "python",
   "nbconvert_exporter": "python",
   "pygments_lexer": "ipython3",
   "version": "3.7.1"
  }
 },
 "nbformat": 4,
 "nbformat_minor": 2
}
