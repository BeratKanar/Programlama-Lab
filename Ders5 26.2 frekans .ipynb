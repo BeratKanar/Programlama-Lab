{
 "cells": [
  {
   "cell_type": "code",
   "execution_count": 2,
   "metadata": {},
   "outputs": [
    {
     "name": "stdout",
     "output_type": "stream",
     "text": [
      "[2, 3, 2, 5, 8, 2, 4, 3, 3, 2, 8, 5, 2]\n",
      "[[2, 5], [3, 3], [5, 2], [8, 2], [4, 1]]\n"
     ]
    }
   ],
   "source": [
    "my_list=[2,3,2,5,8,2,4,3,3,2,8,5,2]\n",
    "print(my_list)\n",
    "\n",
    "def my_frequency_dict(list):\n",
    "  frequency_dict={}\n",
    "  for item in list:\n",
    "    if(item in frequency_dict):\n",
    "       frequency_dict[item]=frequency_dict[item]+1\n",
    "    else:\n",
    "       frequency_dict[item]=1   \n",
    "  print(frequency_dict)     \n",
    "\n",
    "\n",
    "def my_frequency_list(list_1):\n",
    "  frequency_list=[]\n",
    "  for i in range (len(list_1)):\n",
    "      s=False\n",
    "      for j in range (len(frequency_list)):\n",
    "         if(list_1[i]==frequency_list[j][0]):\n",
    "            frequency_list[j][1]=frequency_list[j][1]+1\n",
    "            s=True\n",
    "      if(s==False):\n",
    "        frequency_list.append([list_1[i],1])  #indis[0][1]+1\n",
    "                \n",
    "  print(frequency_list)          \n",
    "\n",
    "\n",
    "my_frequency_list(my_list)"
   ]
  },
  {
   "cell_type": "code",
   "execution_count": 4,
   "metadata": {},
   "outputs": [
    {
     "name": "stdout",
     "output_type": "stream",
     "text": [
      "{2: 5, 3: 3, 5: 2, 8: 2, 4: 1}\n"
     ]
    }
   ],
   "source": [
    "my_frequency_dict(my_list)"
   ]
  }
 ],
 "metadata": {
  "kernelspec": {
   "display_name": "Python 3",
   "language": "python",
   "name": "python3"
  },
  "language_info": {
   "codemirror_mode": {
    "name": "ipython",
    "version": 3
   },
   "file_extension": ".py",
   "mimetype": "text/x-python",
   "name": "python",
   "nbconvert_exporter": "python",
   "pygments_lexer": "ipython3",
   "version": "3.7.1"
  }
 },
 "nbformat": 4,
 "nbformat_minor": 2
}
