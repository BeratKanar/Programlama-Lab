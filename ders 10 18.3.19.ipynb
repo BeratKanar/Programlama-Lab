{
 "cells": [
  {
   "cell_type": "code",
   "execution_count": 1,
   "metadata": {},
   "outputs": [],
   "source": [
    "class Item(object):\n",
    "    def __init__(self, n, v, w):\n",
    "        self.name = n\n",
    "        self.value = v\n",
    "        self.weight = w"
   ]
  },
  {
   "cell_type": "code",
   "execution_count": 3,
   "metadata": {},
   "outputs": [],
   "source": [
    "item1 = Item('clock', 175, 10)\n",
    "item2 = Item('Painting', 90, 9)\n",
    "item3 = Item('Radio', 20, 4)\n",
    "item4 = Item('Vase', 50, 2)\n",
    "item5 = Item('Book', 10, 1)\n",
    "item6 = Item('Computer', 20, 10)\n",
    "\n",
    "items = [item1, item2, item3, item4, item5, item6]\n",
    "#20 agirlik miktarina kadar max degerde hirsizlik "
   ]
  },
  {
   "cell_type": "code",
   "execution_count": 5,
   "metadata": {},
   "outputs": [],
   "source": [
    "def maxweight (items):\n",
    "    items.sort(key=lambda item: item.value/item.weight)\n",
    "    maxVal = items[-1].value\n",
    "    calinan = []\n",
    "    calinanAgirligi = 0\n",
    "    for k in range(1,len(items)):\n",
    "        for i in range (len(items)-1,-1,-1):\n",
    "            weight = 20\n",
    "            iterator = i\n",
    "            val = 0\n",
    "            calinanlar = []\n",
    "            calinanAgirlikGecici = 0\n",
    "            while iterator >=0:\n",
    "                if weight - items[iterator].weight >= 0 :\n",
    "                    weight -= items[iterator].weight\n",
    "                    calinanAgirlikGecici += items[iterator].weight\n",
    "                    val += items[iterator].value\n",
    "                    calinanlar.append(items[iterator].name)\n",
    "                    iterator -= k\n",
    "                else:\n",
    "                    iterator -= k\n",
    "            if maxVal < val :\n",
    "                maxVal = val\n",
    "                calinan = calinanlar\n",
    "                calinanAgirligi = calinanAgirlikGecici\n",
    "    return(maxVal, calinanAgirligi, calinan)"
   ]
  },
  {
   "cell_type": "code",
   "execution_count": 6,
   "metadata": {},
   "outputs": [
    {
     "data": {
      "text/plain": [
       "(275, 20, ['clock', 'Book', 'Painting'])"
      ]
     },
     "execution_count": 6,
     "metadata": {},
     "output_type": "execute_result"
    }
   ],
   "source": [
    "maxweight(items)"
   ]
  }
 ],
 "metadata": {
  "kernelspec": {
   "display_name": "Python 3",
   "language": "python",
   "name": "python3"
  },
  "language_info": {
   "codemirror_mode": {
    "name": "ipython",
    "version": 3
   },
   "file_extension": ".py",
   "mimetype": "text/x-python",
   "name": "python",
   "nbconvert_exporter": "python",
   "pygments_lexer": "ipython3",
   "version": "3.7.1"
  }
 },
 "nbformat": 4,
 "nbformat_minor": 2
}
