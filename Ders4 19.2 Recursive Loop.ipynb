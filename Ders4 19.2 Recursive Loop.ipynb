{
 "cells": [
  {
   "cell_type": "code",
   "execution_count": 4,
   "metadata": {},
   "outputs": [
    {
     "name": "stdout",
     "output_type": "stream",
     "text": [
      "0 0\n",
      "1 1\n",
      "1 1\n",
      "2 2\n",
      "3 3\n",
      "5 5\n",
      "8 8\n",
      "13 13\n",
      "21 21\n",
      "34 34\n",
      "55 55\n",
      "89 89\n",
      "144 144\n",
      "233 233\n",
      "377 377\n",
      "610 610\n",
      "987 987\n",
      "1597 1597\n",
      "2584 2584\n",
      "4181 4181\n"
     ]
    }
   ],
   "source": [
    "def fibo_loop(n):\n",
    "   a,b=0,1\n",
    "   if(n==0):\n",
    "     return 0\n",
    "   for i in range(n-1):\n",
    "      a,b=b,a+b  \n",
    "   return b\n",
    "\n",
    "def fibo_recursive(n):\n",
    "  if(n<2):\n",
    "     return n\n",
    "  else:\n",
    "     return fibo_recursive(n-1)+fibo_recursive(n-2)\n",
    "     \n",
    "\n",
    "def factorial(n):\n",
    "  s=1\n",
    "  for i in range(1,n+1):\n",
    "     s=s*i\n",
    "  return s\n",
    "    \n",
    "def factorial_r(n):\n",
    "  if(n==1):\n",
    "     return 1\n",
    "  else:\n",
    "     return n*factorial_r(n-1)\n",
    "\n",
    "\n",
    "loop_sayac=0\n",
    "recursive_sayac=0\n",
    "def power_recursive(m,n):\n",
    "  global recursive_sayac\n",
    "  recursive_sayac=recursive_sayac+1\n",
    "  if(n==0):\n",
    "      return 1\n",
    "  elif(n==1):\n",
    "    return m\n",
    "  elif(n%2==0):\n",
    "    return power_recursive(m*m,n//2)\n",
    "  elif(n%2!=0):                         \n",
    "    return power_recursive(m*m,n//2)*m\n",
    "\n",
    "def power_loop(m,n):\n",
    "  global loop_sayac\n",
    "  loop_sayac=loop_sayac+1\n",
    "  s=1\n",
    "  for i in range(n):\n",
    "    s=s*m\n",
    "  return s  \n",
    "\n",
    "for i in range(20) :\n",
    "    r_1 = fibo_loop(i)\n",
    "    r_2 = fibo_recursive (i)\n",
    "    print (r_1, r_2)"
   ]
  },
  {
   "cell_type": "code",
   "execution_count": 5,
   "metadata": {},
   "outputs": [
    {
     "name": "stdout",
     "output_type": "stream",
     "text": [
      "factorial loop : 3628800 factorial recursive : 3628800\n",
      "factorial loop : 39916800 factorial recursive : 39916800\n",
      "factorial loop : 479001600 factorial recursive : 479001600\n",
      "factorial loop : 6227020800 factorial recursive : 6227020800\n",
      "factorial loop : 87178291200 factorial recursive : 87178291200\n",
      "factorial loop : 1307674368000 factorial recursive : 1307674368000\n",
      "factorial loop : 20922789888000 factorial recursive : 20922789888000\n",
      "factorial loop : 355687428096000 factorial recursive : 355687428096000\n",
      "factorial loop : 6402373705728000 factorial recursive : 6402373705728000\n",
      "factorial loop : 121645100408832000 factorial recursive : 121645100408832000\n"
     ]
    }
   ],
   "source": [
    "def factorial(n):\n",
    "    s=1\n",
    "    for i in range(1,n+1):\n",
    "        s=s*i\n",
    "    return s\n",
    "factorial(1)\n",
    "def factorial_r(n):\n",
    "    if(n==1):\n",
    "        return 1\n",
    "    else:\n",
    "        return n*factorial_r(n-1)\n",
    "factorial_r(5)\n",
    "for i in range(10,20):\n",
    "    r_1,r_2=factorial(i),factorial_r(i)\n",
    "    print(\"factorial loop :\",r_1,end=\" \")\n",
    "    print(\"factorial recursive :\",r_2)"
   ]
  }
 ],
 "metadata": {
  "kernelspec": {
   "display_name": "Python 3",
   "language": "python",
   "name": "python3"
  },
  "language_info": {
   "codemirror_mode": {
    "name": "ipython",
    "version": 3
   },
   "file_extension": ".py",
   "mimetype": "text/x-python",
   "name": "python",
   "nbconvert_exporter": "python",
   "pygments_lexer": "ipython3",
   "version": "3.7.1"
  }
 },
 "nbformat": 4,
 "nbformat_minor": 2
}
