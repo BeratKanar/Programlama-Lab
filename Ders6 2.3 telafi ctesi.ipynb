{
 "cells": [
  {
   "cell_type": "code",
   "execution_count": 17,
   "metadata": {},
   "outputs": [
    {
     "data": {
      "text/plain": [
       "([7, 7, 7, 7, 7, 7], [-5, -3, -1, 1, 3, 5], [5, 10, 15, 20, 25, 30])"
      ]
     },
     "execution_count": 17,
     "metadata": {},
     "output_type": "execute_result"
    }
   ],
   "source": [
    "def my_Vector_Addition(v,w):\n",
    "    size=len(v)\n",
    "    my_result=[]\n",
    "    for i in range(size):\n",
    "        my_result.append(0)\n",
    "    for i in range(size):\n",
    "        my_result[i]=v[i]+w[i]\n",
    "    return my_result\n",
    "\n",
    "\n",
    "\n",
    "def my_Vector_Substraction(v,w):\n",
    "    size=len(v)\n",
    "    my_result=[]\n",
    "    for i in range(size):\n",
    "        my_result.append(0)\n",
    "    for i in range(size):\n",
    "        my_result[i]=v[i]-w[i]\n",
    "    return my_result    \n",
    "\n",
    "def my_Vector_Scalar_Product(alpha,v):\n",
    "    size=len(v)\n",
    "    my_result=[]\n",
    "    for i in range(size):\n",
    "        my_result.append(0)\n",
    "    for i in range(size):\n",
    "        my_result[i]=alpha*v[i]\n",
    "    return my_result    \n",
    "\n",
    "a=[1,2,3,4,5,6]\n",
    "b=[6,5,4,3,2,1]\n",
    "alpha=5\n",
    "beta=10\n",
    "\n",
    "my_Vector_Addition(a,b),my_Vector_Substraction(a,b),my_Vector_Scalar_Product(alpha,a)\n",
    "\n",
    "\n"
   ]
  },
  {
   "cell_type": "code",
   "execution_count": 20,
   "metadata": {},
   "outputs": [
    {
     "data": {
      "text/plain": [
       "[-3, -10, 4, -10, 6]"
      ]
     },
     "execution_count": 20,
     "metadata": {},
     "output_type": "execute_result"
    }
   ],
   "source": [
    "def my_Vectors_Inner_Product(v,w):\n",
    "    size=len(v)\n",
    "    my_result=[]\n",
    "    for i in range(size):\n",
    "        my_result.append(0)\n",
    "    for i in range(size):\n",
    "        my_result[i]=v[i]*w[i]\n",
    "    \n",
    "    t=0\n",
    "    for i in range(size):\n",
    "        t=t+my_result[i]\n",
    "    return t    \n",
    "\n",
    "a=[-1,2,4,5,6]\n",
    "b=[3,-5,1,-2,1]\n",
    "my_Vectors_Inner_Product(a,b)"
   ]
  }
 ],
 "metadata": {
  "kernelspec": {
   "display_name": "Python 3",
   "language": "python",
   "name": "python3"
  },
  "language_info": {
   "codemirror_mode": {
    "name": "ipython",
    "version": 3
   },
   "file_extension": ".py",
   "mimetype": "text/x-python",
   "name": "python",
   "nbconvert_exporter": "python",
   "pygments_lexer": "ipython3",
   "version": "3.7.1"
  }
 },
 "nbformat": 4,
 "nbformat_minor": 2
}
