{
 "cells": [
  {
   "cell_type": "code",
   "execution_count": 2,
   "metadata": {},
   "outputs": [
    {
     "data": {
      "text/plain": [
       "0"
      ]
     },
     "execution_count": 2,
     "metadata": {},
     "output_type": "execute_result"
    }
   ],
   "source": [
    "import random\n",
    "\n",
    "def createMyHashTable(N):\n",
    "    #ASSERRT : n SHOULD BE PRIME\n",
    "    myTable=[]\n",
    "    for i in range(N):\n",
    "        myTable.append(0)\n",
    "        \n",
    "     \n",
    "    return myTable\n",
    "\n",
    "def my_hash(myTableSize,numberToBeInserted):\n",
    "    return numberToBeInserted%myTableSize\n",
    "    \n",
    "def insertMyHashTable(myTable,numberToBeInserted):\n",
    "    isCollision=False\n",
    "    index=my_hash(len(myTable),numberToBeInserted)\n",
    "    if(myTable[index]==1):\n",
    "        isCollision=True\n",
    "        \n",
    "    else:\n",
    "        myTable[index]==0\n",
    "        #myTable[index]=numberToBeInserted\n",
    "    return isCollision  \n",
    "\n",
    "def myTest(size=13,numberOfInsert=10):\n",
    "    m_h_1=createMyHashTable(size)\n",
    "    c=0\n",
    "    for s in range (numberOfInsert):\n",
    "        number=random.randint(0,10000)\n",
    "        if(insertMyHashTable(m_h_1,number)==True):\n",
    "            c=c+1\n",
    "    return c\n",
    "myTest(703,50)"
   ]
  },
  {
   "cell_type": "code",
   "execution_count": 8,
   "metadata": {},
   "outputs": [
    {
     "data": {
      "text/plain": [
       "(False, False)"
      ]
     },
     "execution_count": 8,
     "metadata": {},
     "output_type": "execute_result"
    }
   ],
   "source": [
    "m_h_1=createMyHashTable(13)\n",
    "insertMyHashTable(m_h_1,17),insertMyHashTable(m_h_1,30)"
   ]
  }
 ],
 "metadata": {
  "kernelspec": {
   "display_name": "Python 3",
   "language": "python",
   "name": "python3"
  },
  "language_info": {
   "codemirror_mode": {
    "name": "ipython",
    "version": 3
   },
   "file_extension": ".py",
   "mimetype": "text/x-python",
   "name": "python",
   "nbconvert_exporter": "python",
   "pygments_lexer": "ipython3",
   "version": "3.7.1"
  }
 },
 "nbformat": 4,
 "nbformat_minor": 2
}
