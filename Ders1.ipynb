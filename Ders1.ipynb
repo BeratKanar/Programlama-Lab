{
 "cells": [
  {
   "cell_type": "code",
   "execution_count": 7,
   "metadata": {},
   "outputs": [
    {
     "name": "stdout",
     "output_type": "stream",
     "text": [
      "[89, 62, 15, 18, 46, 18, 80, 95, 18, 62, 63, 28, 97, 96, 49, 15, 92, 68, 28, 95, 49, 10, 46, 35, 15, 23, 79, 64, 28, 32, 0, 11, 75, 91, 53, 94, 98, 39, 78, 90, 51, 20, 29, 29, 23, 41, 77, 13, 83, 88, 6, 29, 65, 94, 50, 13, 48, 16, 0, 58, 55, 0, 62, 89, 2, 8, 35, 13, 79, 9, 62, 87, 33, 6, 34, 12, 89, 17, 68, 15, 25, 82, 6, 25, 27, 98, 70, 100, 77, 4, 33, 60, 66, 53, 23, 21, 15, 55, 27, 76]\n"
     ]
    }
   ],
   "source": [
    "import random\n",
    "def generate_array (n):\n",
    "    arr= []\n",
    "    for i in range (n): \n",
    "        arr.append(random.randint(0,100))\n",
    "    return arr\n",
    "\n",
    "my_array = generate_array(100)\n",
    "print(my_array)\n"
   ]
  },
  {
   "cell_type": "code",
   "execution_count": 9,
   "metadata": {},
   "outputs": [],
   "source": [
    "def bubble_sort(my_arr) :\n",
    "    for i in range (len(my_arr)-1, 0, -1) :\n",
    "        for j in range (i):\n",
    "            if (my_arr[j] > my_arr[j+1]):\n",
    "                t = my_arr[j]\n",
    "                my_arr[j] = my_arr[j+1]\n",
    "                my_arr[j+1] = t"
   ]
  },
  {
   "cell_type": "code",
   "execution_count": 10,
   "metadata": {},
   "outputs": [
    {
     "name": "stdout",
     "output_type": "stream",
     "text": [
      "[0, 0, 0, 2, 4, 6, 6, 6, 8, 9, 10, 11, 12, 13, 13, 13, 15, 15, 15, 15, 15, 16, 17, 18, 18, 18, 20, 21, 23, 23, 23, 25, 25, 27, 27, 28, 28, 28, 29, 29, 29, 32, 33, 33, 34, 35, 35, 39, 41, 46, 46, 48, 49, 49, 50, 51, 53, 53, 55, 55, 58, 60, 62, 62, 62, 62, 63, 64, 65, 66, 68, 68, 70, 75, 76, 77, 77, 78, 79, 79, 80, 82, 83, 87, 88, 89, 89, 89, 90, 91, 92, 94, 94, 95, 95, 96, 97, 98, 98, 100]\n"
     ]
    }
   ],
   "source": [
    "\n",
    "bubble_sort(my_array)\n",
    "print(my_array)"
   ]
  }
 ],
 "metadata": {
  "kernelspec": {
   "display_name": "Python 3",
   "language": "python",
   "name": "python3"
  },
  "language_info": {
   "codemirror_mode": {
    "name": "ipython",
    "version": 3
   },
   "file_extension": ".py",
   "mimetype": "text/x-python",
   "name": "python",
   "nbconvert_exporter": "python",
   "pygments_lexer": "ipython3",
   "version": "3.7.1"
  }
 },
 "nbformat": 4,
 "nbformat_minor": 2
}
