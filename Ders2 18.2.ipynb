{
 "cells": [
  {
   "cell_type": "code",
   "execution_count": 1,
   "metadata": {
    "scrolled": true
   },
   "outputs": [],
   "source": [
    "def mySearchSelection(my_array):\n",
    "    swap_sayisi=0\n",
    "    for i in range(len(my_array)-1,0,-1):\n",
    "        positionOfMax=0\n",
    "        for location in range(1,i+1):\n",
    "            #print(\"j: \",location,\"i: \",i,end=\"\\n\")\n",
    "            if(my_array[location]>my_array[positionOfMax]):\n",
    "                positionOfMax=location\n",
    "        temp=my_array[location]\n",
    "        my_array[location]=my_array[positionOfMax]\n",
    "        my_array[positionOfMax]=temp\n",
    "        swap_sayisi=swap_sayisi+1\n",
    "        print(\"swap_sayisi\",swap_sayisi)\n",
    "    return"
   ]
  },
  {
   "cell_type": "code",
   "execution_count": 2,
   "metadata": {},
   "outputs": [
    {
     "name": "stdout",
     "output_type": "stream",
     "text": [
      "swap_sayisi 1\n",
      "swap_sayisi 2\n",
      "swap_sayisi 3\n",
      "swap_sayisi 4\n",
      "swap_sayisi 5\n",
      "swap_sayisi 6\n",
      "swap_sayisi 7\n",
      "swap_sayisi 8\n",
      "swap_sayisi 9\n",
      "swap_sayisi 10\n"
     ]
    },
    {
     "data": {
      "text/plain": [
       "[2, 7, 12, 13, 14, 15, 16, 21, 25, 35, 44]"
      ]
     },
     "execution_count": 2,
     "metadata": {},
     "output_type": "execute_result"
    }
   ],
   "source": [
    "my_arr=[21,12,13,44,25,2,7,16,14,35,15]\n",
    "mySearchSelection(my_arr)\n",
    "my_arr"
   ]
  },
  {
   "cell_type": "code",
   "execution_count": 3,
   "metadata": {},
   "outputs": [],
   "source": [
    "def my_binary_search(my_sorted_array,item):\n",
    "    first=0\n",
    "    son=len(my_sorted_array)-1\n",
    "    found=False\n",
    "    s=0\n",
    "    while first<=son and not found:\n",
    "        midpoint=(first+son)//2\n",
    "        s=s+1\n",
    "        print(\"first - son : \",first,son)\n",
    "        if(my_sorted_array[midpoint]==item):\n",
    "            found=True\n",
    "        else:\n",
    "            if(item<my_sorted_array[midpoint]):\n",
    "                son=midpoint-1\n",
    "            else:\n",
    "                first=midpoint+1\n",
    "    return found,midpoint,s"
   ]
  },
  {
   "cell_type": "code",
   "execution_count": 4,
   "metadata": {},
   "outputs": [
    {
     "data": {
      "text/plain": [
       "[2, 7, 12, 13, 14, 15, 16, 21, 25, 35, 44]"
      ]
     },
     "execution_count": 4,
     "metadata": {},
     "output_type": "execute_result"
    }
   ],
   "source": [
    "my_arr"
   ]
  },
  {
   "cell_type": "code",
   "execution_count": 5,
   "metadata": {},
   "outputs": [
    {
     "name": "stdout",
     "output_type": "stream",
     "text": [
      "first - son :  0 10\n",
      "first - son :  0 4\n",
      "first - son :  3 4\n",
      "first - son :  4 4\n"
     ]
    },
    {
     "data": {
      "text/plain": [
       "(True, 4, 4)"
      ]
     },
     "execution_count": 5,
     "metadata": {},
     "output_type": "execute_result"
    }
   ],
   "source": [
    "my_binary_search(my_arr,14)\n"
   ]
  },
  {
   "cell_type": "code",
   "execution_count": null,
   "metadata": {},
   "outputs": [],
   "source": []
  }
 ],
 "metadata": {
  "kernelspec": {
   "display_name": "Python 3",
   "language": "python",
   "name": "python3"
  },
  "language_info": {
   "codemirror_mode": {
    "name": "ipython",
    "version": 3
   },
   "file_extension": ".py",
   "mimetype": "text/x-python",
   "name": "python",
   "nbconvert_exporter": "python",
   "pygments_lexer": "ipython3",
   "version": "3.7.1"
  }
 },
 "nbformat": 4,
 "nbformat_minor": 2
}
