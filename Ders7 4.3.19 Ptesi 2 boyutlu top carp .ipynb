{
 "cells": [
  {
   "cell_type": "code",
   "execution_count": 33,
   "metadata": {},
   "outputs": [
    {
     "data": {
      "text/plain": [
       "[[40, 60, 30], [80, 50, 60]]"
      ]
     },
     "execution_count": 33,
     "metadata": {},
     "output_type": "execute_result"
    }
   ],
   "source": [
    "def my_matrix_addition(m_1,m_2):\n",
    "    result=[]\n",
    "    for row in range (len(m_1)):\n",
    "        result.append([])\n",
    "        for column in range (len(m_1[0])):\n",
    "            #print (m_1[row][column],end=\" \")\n",
    "            result[row].append(m_1[row][column]+m_2[row][column])        \n",
    "    return result      \n",
    "        # print()    \n",
    "\n",
    "    \n",
    "def my_matrix_substraction(m_1,m_2):\n",
    "    result=[]\n",
    "    for row in range (len(m_1)):\n",
    "        result.append([])\n",
    "        for column in range (len(m_1[0])):\n",
    "            #print (m_1[row][column],end=\" \")\n",
    "            result[row].append(m_1[row][column]-m_2[row][column])        \n",
    "    return result      \n",
    "        # print()   \n",
    "    \n",
    "\n",
    "def my_matrix_scalar_product(alpha,m_1):\n",
    "    result=[]\n",
    "    for row in range (len(m_1)):\n",
    "        result.append([])\n",
    "        for column in range (len(m_1[0])):\n",
    "            #print (m_1[row][column],end=\" \")\n",
    "            result[row].append(m_1[row][column]*alpha)        \n",
    "    return result      \n",
    "        # print()       \n",
    "    \n",
    "\n",
    "\n",
    "    \n",
    "    \n",
    "matrix_1=[[4,6,3],[8,5,6]]\n",
    "matrix_2=[[5,2,3],[6,2,9]]    \n",
    "\n",
    "r=my_matrix_addition(matrix_1,matrix_2)    \n",
    "p=my_matrix_substraction(matrix_1,matrix_2)\n",
    "alpha=10\n",
    "s=my_matrix_scalar_product(alpha,matrix_1)\n",
    "\n",
    "\n",
    "\n"
   ]
  },
  {
   "cell_type": "code",
   "execution_count": 4,
   "metadata": {},
   "outputs": [
    {
     "data": {
      "text/plain": [
       "[[21, 24, 27], [47, 54, 61]]"
      ]
     },
     "execution_count": 4,
     "metadata": {},
     "output_type": "execute_result"
    }
   ],
   "source": [
    "def f_1(matrix_1,i):\n",
    "    \n",
    "    return matrix_1[i]\n",
    "\n",
    "\n",
    "def f_2(matrix_1,j):\n",
    "    my_j_th_col=[]\n",
    "    for row in matrix_1:\n",
    "        for indis in range(len(row)):\n",
    "            if(indis==j):\n",
    "                my_j_th_col.append(row[indis])\n",
    "    return my_j_th_col  \n",
    "\n",
    "\n",
    "def my_Vectors_Inner_Product(v,w):\n",
    "    size=len(v)\n",
    "    my_result=[]\n",
    "    for i in range(size):\n",
    "        my_result.append(0)\n",
    "    for i in range(size):\n",
    "        my_result[i]=v[i]*w[i]\n",
    "    \n",
    "    t=0\n",
    "    for i in range(size):\n",
    "        t=t+my_result[i]\n",
    "    return t    \n",
    "\n",
    "\n",
    "def my_matrix_multiply(m_1,m_2):\n",
    "    result=[]\n",
    "    for row in range(len(m_1)):\n",
    "        result.append([])\n",
    "        for column in range(len(m_2[0])):\n",
    "            a=f_1(m_1,row)\n",
    "            b=f_2(m_2,column)\n",
    "            c=my_Vectors_Inner_Product(a,b)\n",
    "            result[row].append(c)\n",
    "    return result\n",
    "\n",
    "matrix_1=[[1,2],[3,4]]\n",
    "matrix_2=[[5,6,7],[8,9,10]]\n",
    "r=my_matrix_multiply(matrix_1,matrix_2)\n",
    "r\n",
    "\n",
    "\n",
    "\n",
    "\n",
    "  \n",
    "\n",
    "#matrix_1=[[4,6,3],[8,5,6]]\n",
    "#f_2(matrix_1,2)\n",
    "\n",
    "#matrix_1=[[4,6,3],[8,5,6]]\n",
    "#f_1(matrix_1,1)"
   ]
  }
 ],
 "metadata": {
  "kernelspec": {
   "display_name": "Python 3",
   "language": "python",
   "name": "python3"
  },
  "language_info": {
   "codemirror_mode": {
    "name": "ipython",
    "version": 3
   },
   "file_extension": ".py",
   "mimetype": "text/x-python",
   "name": "python",
   "nbconvert_exporter": "python",
   "pygments_lexer": "ipython3",
   "version": "3.7.1"
  }
 },
 "nbformat": 4,
 "nbformat_minor": 2
}
